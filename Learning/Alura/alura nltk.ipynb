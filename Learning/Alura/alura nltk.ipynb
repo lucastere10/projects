{
 "cells": [
  {
   "cell_type": "code",
   "execution_count": 70,
   "metadata": {},
   "outputs": [
    {
     "name": "stderr",
     "output_type": "stream",
     "text": [
      "[nltk_data] Downloading package punkt to\n",
      "[nltk_data]     C:\\Users\\lucas\\AppData\\Roaming\\nltk_data...\n",
      "[nltk_data]   Package punkt is already up-to-date!\n",
      "[nltk_data] Downloading package words to\n",
      "[nltk_data]     C:\\Users\\lucas\\AppData\\Roaming\\nltk_data...\n",
      "[nltk_data]   Package words is already up-to-date!\n"
     ]
    }
   ],
   "source": [
    "\n",
    "import nltk\n",
    "from nltk import word_tokenize\n",
    "from nltk.metrics.distance import jaccard_distance, edit_distance\n",
    "from nltk.util import ngrams\n",
    "\n",
    "#download punkt and words\n",
    "nltk.download('punkt')\n",
    "nltk.download('words')\n",
    "\n",
    "from nltk.corpus import words\n",
    "correct_words = words.words()"
   ]
  },
  {
   "cell_type": "code",
   "execution_count": 15,
   "metadata": {},
   "outputs": [
    {
     "name": "stdout",
     "output_type": "stream",
     "text": [
      "happy\n",
      "amazing\n",
      "intelligent\n",
      "viable\n"
     ]
    }
   ],
   "source": [
    "# list of incorrect spellings\n",
    "# that need to be corrected\n",
    "incorrect_words=['happpy', 'azmaing', 'intelliengt', 'viabli']\n",
    "\n",
    "# loop for finding correct spellings\n",
    "# based on jaccard distance\n",
    "# and printing the correct word\n",
    "for word in incorrect_words: \n",
    "\ttemp = [(jaccard_distance(set(ngrams(word, 2)),\n",
    "\t\t\t\t\t\t\tset(ngrams(w, 2))),w)\n",
    "\t\t\tfor w in correct_words if w[0]==word[0]]\n",
    "\tprint(sorted(temp, key = lambda val:val[0])[0][1])\n",
    "\n"
   ]
  },
  {
   "cell_type": "code",
   "execution_count": 76,
   "metadata": {},
   "outputs": [
    {
     "name": "stdout",
     "output_type": "stream",
     "text": [
      "['Each', 'of', 'the', 'two', 'different', 'recommenders', 'will', 'use', 'a', 'different', 'distance', 'measure', '.']\n",
      "Each of the two different recommendees will use a different distance measure .\n"
     ]
    }
   ],
   "source": [
    "#misspelling generator\n",
    "import string\n",
    "import random\n",
    "\n",
    "phrase = \"Each of the two different recommenders will use a different distance measure.\"\n",
    "tokenized_phrase = word_tokenize(phrase)\n",
    "print(tokenized_phrase)\n",
    "p = 0.10\n",
    "\n",
    "new_phrase = []\n",
    "words = phrase.split(' ')\n",
    "for word in tokenized_phrase:\n",
    "    outcome = random.random()\n",
    "    if outcome <= p:\n",
    "        ix = random.choice(range(len(word)))\n",
    "        new_word = ''.join([word[w] if w != ix else random.choice(string.ascii_letters) for w in range(len(word))])\n",
    "        new_phrase.append(new_word)\n",
    "    else:\n",
    "        new_phrase.append(word)\n",
    "\n",
    "new_phrase = ' '.join([w for w in new_phrase]) \n",
    "print(new_phrase)"
   ]
  },
  {
   "cell_type": "code",
   "execution_count": 77,
   "metadata": {},
   "outputs": [
    {
     "name": "stdout",
     "output_type": "stream",
     "text": [
      "Each of the two different recommendees will use a different distance measure .\n",
      "['Each', 'of', 'the', 'two', 'different', 'recommendees', 'will', 'use', 'a', 'different', 'distance', 'measure', '.']\n"
     ]
    }
   ],
   "source": [
    "#jaccard distance for text\n",
    "#text = \"There is no one who loves pain itself, who seeks after it and wants to have it, simply because it is pain...\"\n",
    "text = new_phrase\n",
    "#input_text = input()\n",
    "tokenized_text = word_tokenize(text)\n",
    "print(new_phrase)\n",
    "print(tokenized_text)"
   ]
  },
  {
   "cell_type": "code",
   "execution_count": 78,
   "metadata": {},
   "outputs": [
    {
     "name": "stdout",
     "output_type": "stream",
     "text": [
      "(0.7777777777777778, 'Echinacea')\n",
      "(0.0, 'of')\n",
      "(0.0, 'the')\n",
      "(0.0, 'two')\n",
      "(0.0, 'different')\n",
      "(0.09090909090909091, 'recommendee')\n",
      "(0.0, 'will')\n",
      "(0.0, 'use')\n"
     ]
    },
    {
     "ename": "ZeroDivisionError",
     "evalue": "division by zero",
     "output_type": "error",
     "traceback": [
      "\u001b[1;31m---------------------------------------------------------------------------\u001b[0m",
      "\u001b[1;31mZeroDivisionError\u001b[0m                         Traceback (most recent call last)",
      "Cell \u001b[1;32mIn[78], line 3\u001b[0m\n\u001b[0;32m      1\u001b[0m \u001b[39m#jaccard method\u001b[39;00m\n\u001b[0;32m      2\u001b[0m \u001b[39mfor\u001b[39;00m word \u001b[39min\u001b[39;00m tokenized_text:\n\u001b[1;32m----> 3\u001b[0m     temp \u001b[39m=\u001b[39m [(jaccard_distance(\u001b[39mset\u001b[39;49m(ngrams(word, \u001b[39m2\u001b[39;49m)), \u001b[39mset\u001b[39;49m(ngrams(w, \u001b[39m2\u001b[39;49m))),w) \u001b[39mfor\u001b[39;49;00m w \u001b[39min\u001b[39;49;00m correct_words \u001b[39mif\u001b[39;49;00m w[\u001b[39m0\u001b[39;49m]\u001b[39m==\u001b[39;49mword[\u001b[39m0\u001b[39;49m]]\n\u001b[0;32m      4\u001b[0m     \u001b[39mprint\u001b[39m(\u001b[39msorted\u001b[39m(temp, key \u001b[39m=\u001b[39m \u001b[39mlambda\u001b[39;00m val:val[\u001b[39m0\u001b[39m])[\u001b[39m0\u001b[39m])\n",
      "Cell \u001b[1;32mIn[78], line 3\u001b[0m, in \u001b[0;36m<listcomp>\u001b[1;34m(.0)\u001b[0m\n\u001b[0;32m      1\u001b[0m \u001b[39m#jaccard method\u001b[39;00m\n\u001b[0;32m      2\u001b[0m \u001b[39mfor\u001b[39;00m word \u001b[39min\u001b[39;00m tokenized_text:\n\u001b[1;32m----> 3\u001b[0m     temp \u001b[39m=\u001b[39m [(jaccard_distance(\u001b[39mset\u001b[39;49m(ngrams(word, \u001b[39m2\u001b[39;49m)), \u001b[39mset\u001b[39;49m(ngrams(w, \u001b[39m2\u001b[39;49m))),w) \u001b[39mfor\u001b[39;00m w \u001b[39min\u001b[39;00m correct_words \u001b[39mif\u001b[39;00m w[\u001b[39m0\u001b[39m]\u001b[39m==\u001b[39mword[\u001b[39m0\u001b[39m]]\n\u001b[0;32m      4\u001b[0m     \u001b[39mprint\u001b[39m(\u001b[39msorted\u001b[39m(temp, key \u001b[39m=\u001b[39m \u001b[39mlambda\u001b[39;00m val:val[\u001b[39m0\u001b[39m])[\u001b[39m0\u001b[39m])\n",
      "File \u001b[1;32md:\\Development\\.env\\Lib\\site-packages\\nltk\\metrics\\distance.py:219\u001b[0m, in \u001b[0;36mjaccard_distance\u001b[1;34m(label1, label2)\u001b[0m\n\u001b[0;32m    217\u001b[0m \u001b[39mdef\u001b[39;00m \u001b[39mjaccard_distance\u001b[39m(label1, label2):\n\u001b[0;32m    218\u001b[0m     \u001b[39m\"\"\"Distance metric comparing set-similarity.\"\"\"\u001b[39;00m\n\u001b[1;32m--> 219\u001b[0m     \u001b[39mreturn\u001b[39;00m (\u001b[39mlen\u001b[39;49m(label1\u001b[39m.\u001b[39;49munion(label2)) \u001b[39m-\u001b[39;49m \u001b[39mlen\u001b[39;49m(label1\u001b[39m.\u001b[39;49mintersection(label2))) \u001b[39m/\u001b[39;49m \u001b[39mlen\u001b[39;49m(\n\u001b[0;32m    220\u001b[0m         label1\u001b[39m.\u001b[39;49munion(label2)\n\u001b[0;32m    221\u001b[0m     )\n",
      "\u001b[1;31mZeroDivisionError\u001b[0m: division by zero"
     ]
    }
   ],
   "source": [
    "#jaccard method\n",
    "for word in tokenized_text:\n",
    "    temp = [(jaccard_distance(set(ngrams(word, 2)), set(ngrams(w, 2))),w) for w in correct_words if w[0]==word[0]]\n",
    "    print(sorted(temp, key = lambda val:val[0])[0])"
   ]
  },
  {
   "cell_type": "code",
   "execution_count": 79,
   "metadata": {},
   "outputs": [
    {
     "name": "stdout",
     "output_type": "stream",
     "text": [
      "Earl\n",
      "of\n",
      "the\n",
      "two\n",
      "different\n",
      "recommendee\n",
      "will\n",
      "use\n",
      "a\n",
      "different\n",
      "distance\n",
      "measure\n"
     ]
    },
    {
     "ename": "IndexError",
     "evalue": "list index out of range",
     "output_type": "error",
     "traceback": [
      "\u001b[1;31m---------------------------------------------------------------------------\u001b[0m",
      "\u001b[1;31mIndexError\u001b[0m                                Traceback (most recent call last)",
      "Cell \u001b[1;32mIn[79], line 4\u001b[0m\n\u001b[0;32m      2\u001b[0m \u001b[39mfor\u001b[39;00m word \u001b[39min\u001b[39;00m tokenized_text:\n\u001b[0;32m      3\u001b[0m     temp \u001b[39m=\u001b[39m [(edit_distance(word, w),w) \u001b[39mfor\u001b[39;00m w \u001b[39min\u001b[39;00m correct_words \u001b[39mif\u001b[39;00m w[\u001b[39m0\u001b[39m]\u001b[39m==\u001b[39mword[\u001b[39m0\u001b[39m]]\n\u001b[1;32m----> 4\u001b[0m     \u001b[39mprint\u001b[39m(\u001b[39msorted\u001b[39;49m(temp, key \u001b[39m=\u001b[39;49m \u001b[39mlambda\u001b[39;49;00m val:val[\u001b[39m0\u001b[39;49m])[\u001b[39m0\u001b[39;49m][\u001b[39m1\u001b[39m])\n",
      "\u001b[1;31mIndexError\u001b[0m: list index out of range"
     ]
    }
   ],
   "source": [
    "#edit_distance method\n",
    "for word in tokenized_text:\n",
    "    temp = [(edit_distance(word, w),w) for w in correct_words if w[0]==word[0]]\n",
    "    print(sorted(temp, key = lambda val:val[0])[0][1])"
   ]
  },
  {
   "cell_type": "code",
   "execution_count": 2,
   "metadata": {},
   "outputs": [],
   "source": [
    "#kmeans\n",
    "from sklearn.cluster import KMeans"
   ]
  },
  {
   "cell_type": "code",
   "execution_count": 3,
   "metadata": {},
   "outputs": [
    {
     "ename": "NameError",
     "evalue": "name 'SEED' is not defined",
     "output_type": "error",
     "traceback": [
      "\u001b[1;31m---------------------------------------------------------------------------\u001b[0m",
      "\u001b[1;31mNameError\u001b[0m                                 Traceback (most recent call last)",
      "Cell \u001b[1;32mIn[3], line 1\u001b[0m\n\u001b[1;32m----> 1\u001b[0m kmeans_modelo \u001b[39m=\u001b[39m KMeans(n_clusters\u001b[39m=\u001b[39m\u001b[39m50\u001b[39m, verbose\u001b[39m=\u001b[39m\u001b[39mFalse\u001b[39;00m, random_state\u001b[39m=\u001b[39mSEED)\n\u001b[0;32m      2\u001b[0m kmeans_modelo\u001b[39m.\u001b[39mfit(dataset)\n\u001b[0;32m      3\u001b[0m projeto \u001b[39m=\u001b[39m kmeans_pca_pipeline\u001b[39m.\u001b[39mpredict(dataset)\n",
      "\u001b[1;31mNameError\u001b[0m: name 'SEED' is not defined"
     ]
    }
   ],
   "source": [
    "kmeans_modelo = KMeans(n_clusters=50, verbose=False)\n",
    "kmeans_modelo.fit(dataset)\n",
    "projeto = kmeans_pca_pipeline.predict(dataset)\n",
    "projeto"
   ]
  }
 ],
 "metadata": {
  "kernelspec": {
   "display_name": ".env",
   "language": "python",
   "name": "python3"
  },
  "language_info": {
   "codemirror_mode": {
    "name": "ipython",
    "version": 3
   },
   "file_extension": ".py",
   "mimetype": "text/x-python",
   "name": "python",
   "nbconvert_exporter": "python",
   "pygments_lexer": "ipython3",
   "version": "3.11.0 (main, Oct 24 2022, 18:26:48) [MSC v.1933 64 bit (AMD64)]"
  },
  "orig_nbformat": 4,
  "vscode": {
   "interpreter": {
    "hash": "f98e0e45f03e011f1af685cc3ef86bf3f1cee00eba3b7703504ed6c4c6075da3"
   }
  }
 },
 "nbformat": 4,
 "nbformat_minor": 2
}
