{
 "cells": [
  {
   "cell_type": "code",
   "execution_count": 6,
   "metadata": {},
   "outputs": [
    {
     "name": "stdout",
     "output_type": "stream",
     "text": [
      "a\n",
      "a\n",
      "ab\n",
      "Gabriel Saldanha\n"
     ]
    }
   ],
   "source": [
    "texto = 'abcde'\n",
    "print(texto[0])\n",
    "print(texto[0:1])\n",
    "print(texto[0:2])\n",
    "\n",
    "nome_completo = 'Gabriel Saldanha'\n",
    "primeiro_nome = nome_completo[0:7]\n",
    "ultimo_nome = nome_completo[8:16]\n",
    "print(primeiro_nome,ultimo_nome)"
   ]
  },
  {
   "cell_type": "code",
   "execution_count": 9,
   "metadata": {},
   "outputs": [
    {
     "name": "stdout",
     "output_type": "stream",
     "text": [
      "bytebank.com/cambio?moedaOrigem=real\n",
      "bytebank.com/cambio\n",
      "moedaOrigem=real\n"
     ]
    },
    {
     "data": {
      "text/plain": [
       "['bytebank.com/cambio', 'moedaOrigem=real']"
      ]
     },
     "execution_count": 9,
     "metadata": {},
     "output_type": "execute_result"
    }
   ],
   "source": [
    "url = \"bytebank.com/cambio?moedaOrigem=real\"\n",
    "print(url)\n",
    "\n",
    "url_base = url[0:19]\n",
    "print(url_base)\n",
    "\n",
    "url_parametros = url[20:36]\n",
    "print(url_parametros)\n",
    "\n",
    "url.find('?')\n",
    "url.split('?')"
   ]
  },
  {
   "cell_type": "code",
   "execution_count": 10,
   "metadata": {},
   "outputs": [
    {
     "name": "stdout",
     "output_type": "stream",
     "text": [
      "curso=python\n"
     ]
    }
   ],
   "source": [
    "url = \"https://www.alura.com.br/curso?curso=python\"\n",
    "indice_curso = url.find(\"curso\")\n",
    "indice_valor = indice_curso + len(\"curso\") + 1\n",
    "valor = url[indice_valor:]\n",
    "print(valor)"
   ]
  },
  {
   "cell_type": "code",
   "execution_count": 5,
   "metadata": {},
   "outputs": [
    {
     "ename": "TypeError",
     "evalue": "ExtratorURL.sanitiza_url() missing 1 required positional argument: 'url'",
     "output_type": "error",
     "traceback": [
      "\u001b[1;31m---------------------------------------------------------------------------\u001b[0m",
      "\u001b[1;31mTypeError\u001b[0m                                 Traceback (most recent call last)",
      "Cell \u001b[1;32mIn[5], line 19\u001b[0m\n\u001b[0;32m     15\u001b[0m extrator_url \u001b[39m=\u001b[39m ExtratorURL(\u001b[39m\"\u001b[39m\u001b[39mbytebank.com/cambio?quantidade=100&moedaOrigem=real&moedaDestino=dolar\u001b[39m\u001b[39m\"\u001b[39m)\n\u001b[0;32m     16\u001b[0m \u001b[39m#extrator_url = ExtratorURL(\"   \")\u001b[39;00m\n\u001b[0;32m     17\u001b[0m \u001b[39m# valor_quantidade = extrator_url.get_valor_parametro(\"quantidade\")\u001b[39;00m\n\u001b[0;32m     18\u001b[0m \u001b[39m# print(valor_quantidade)\u001b[39;00m\n\u001b[1;32m---> 19\u001b[0m extrator_url\u001b[39m.\u001b[39;49msanitiza_url()\n",
      "\u001b[1;31mTypeError\u001b[0m: ExtratorURL.sanitiza_url() missing 1 required positional argument: 'url'"
     ]
    }
   ],
   "source": [
    "url = \"https://www.alura.com.br/curso?curso=python\"\n",
    "\n",
    "class ExtratorURL:\n",
    "    def __init__(self, url):\n",
    "        self.url = self.sanitiza_url(url)\n",
    "        self.valida_url()\n",
    "\n",
    "    def sanitiza_url(self, url):\n",
    "        return url.strip()\n",
    "\n",
    "    def valida_url(self):\n",
    "        if self.url == \"\":\n",
    "            raise ValueError(\"A URL está vazia\")\n",
    "\n",
    "extrator_url = ExtratorURL(\"bytebank.com/cambio?quantidade=100&moedaOrigem=real&moedaDestino=dolar\")\n",
    "#extrator_url = ExtratorURL(\"   \")\n",
    "# valor_quantidade = extrator_url.get_valor_parametro(\"quantidade\")\n",
    "# print(valor_quantidade)\n",
    "extrator_url.sanitiza_url()"
   ]
  },
  {
   "cell_type": "code",
   "execution_count": 7,
   "metadata": {},
   "outputs": [
    {
     "name": "stdout",
     "output_type": "stream",
     "text": [
      "23440-120\n"
     ]
    }
   ],
   "source": [
    "endereco = \"Rua da Flores 72, apartamento 1002, Laranjeiras, Rio de Janeiro, RJ, 23440-120\"\n",
    "\n",
    "\n",
    "import re  # Regular Expression -- RegEx\n",
    "\n",
    "# 5 dígitos + hífen (opcional) + 3 dígitos\n",
    "\n",
    "padrao = re.compile(\"[0-9]{5}[-]{0,1}[0-9]{3}\")\n",
    "busca = padrao.search(endereco)  # Match\n",
    "if busca:\n",
    "    cep = busca.group()\n",
    "    print(cep)"
   ]
  },
  {
   "cell_type": "code",
   "execution_count": 10,
   "metadata": {},
   "outputs": [
    {
     "name": "stdout",
     "output_type": "stream",
     "text": [
      "718.457.190-85\n"
     ]
    }
   ],
   "source": [
    "cpf = 'Rafaela Brasil, CPF: 718.457.190-85'\n",
    "\n",
    "import re  # Regular Expression -- RegEx\n",
    "\n",
    "pad = re.compile(\"[0-9]{3}[.]{0,1}[0-9]{3}[.]{0,1}[0-9]{3}[-]{0,1}[0-9]{2}\")\n",
    "busca = pad.search(cpf)  # Match\n",
    "if busca:\n",
    "    cpf2 = busca.group()\n",
    "    print(cpf2)\n"
   ]
  }
 ],
 "metadata": {
  "kernelspec": {
   "display_name": ".env",
   "language": "python",
   "name": "python3"
  },
  "language_info": {
   "codemirror_mode": {
    "name": "ipython",
    "version": 3
   },
   "file_extension": ".py",
   "mimetype": "text/x-python",
   "name": "python",
   "nbconvert_exporter": "python",
   "pygments_lexer": "ipython3",
   "version": "3.11.0 (main, Oct 24 2022, 18:26:48) [MSC v.1933 64 bit (AMD64)]"
  },
  "orig_nbformat": 4,
  "vscode": {
   "interpreter": {
    "hash": "f98e0e45f03e011f1af685cc3ef86bf3f1cee00eba3b7703504ed6c4c6075da3"
   }
  }
 },
 "nbformat": 4,
 "nbformat_minor": 2
}
