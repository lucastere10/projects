{
 "cells": [
  {
   "cell_type": "code",
   "execution_count": 3,
   "id": "6d832225",
   "metadata": {},
   "outputs": [],
   "source": [
    "#imports\n",
    "import pandas as pd\n",
    "import seaborn as sns\n",
    "import numpy as np\n",
    "import matplotlib.pyplot as plt\n",
    "import squarify\n",
    "\n",
    "import nltk\n",
    "from textblob import TextBlob\n",
    "from textblob.sentiments import NaiveBayesAnalyzer\n",
    "\n",
    "from wordcloud import WordCloud, STOPWORDS, ImageColorGenerator\n",
    "from PIL import Image\n",
    "\n",
    "%matplotlib inline"
   ]
  },
  {
   "cell_type": "code",
   "execution_count": null,
   "id": "034fc8ee",
   "metadata": {},
   "outputs": [],
   "source": [
    "#Create Masks\n",
    "shirt_mask = np.array(Image.open(\"img/t-shirt.png\"))\n",
    "wine_mask = np.array(Image.open(\"img/wine.png\"))\n",
    "gshirt_mask  = np.array(Image.open(\"img/gshirt.png\"))\n",
    "w1_mask = np.array(Image.open(\"img/w1.png\"))\n",
    "w2_mask = np.array(Image.open(\"img/w2.png\"))\n",
    "girl_mask = np.array(Image.open(\"img/girl.png\"))"
   ]
  },
  {
   "cell_type": "code",
   "execution_count": null,
   "id": "4c048e55",
   "metadata": {},
   "outputs": [],
   "source": [
    "masked_wc = WordCloud(mask = transformed_wine_mask, background_color=\"white\")\n",
    "masked_wc.generate(str(positive_list)) \n",
    "plt.figure(figsize=[20,10])\n",
    "plt.imshow(masked_wc, interpolation='bilinear')\n",
    "plt.axis(\"off\")\n",
    "plt.show()"
   ]
  },
  {
   "cell_type": "code",
   "execution_count": null,
   "id": "3353184c",
   "metadata": {},
   "outputs": [],
   "source": [
    "#transform image\n",
    "def transform_zeros(val):\n",
    "    if val == 0:\n",
    "        return 255\n",
    "    else:\n",
    "        return val\n",
    "\n",
    "# Transform your mask into a new one that will work with the function:\n",
    "transformed_mask = np.ndarray((mask.shape[0],mask.shape[1]), np.int32)\n",
    "\n",
    "for i in range(len(mask)):\n",
    "    transformed_mask[i] = list(map(transform_zeros, mask[i]))"
   ]
  },
  {
   "cell_type": "code",
   "execution_count": null,
   "id": "d685a2eb",
   "metadata": {},
   "outputs": [],
   "source": [
    "#bird\n",
    "mask = np.array(Image.open(\"img/twitter_mask.png\"))\n",
    "masked_wc = WordCloud(mask = mask, background_color=\"white\")\n",
    "masked_wc.generate(str(positive_list)) \n",
    "plt.figure(figsize=[20,10])\n",
    "plt.imshow(masked_wc, interpolation='bilinear')\n",
    "plt.axis(\"off\")\n",
    "plt.show()"
   ]
  },
  {
   "cell_type": "code",
   "execution_count": null,
   "id": "3a3f7b34",
   "metadata": {},
   "outputs": [],
   "source": [
    "#girl\n",
    "masked_wc = WordCloud(mask = transformed_mask, background_color=\"white\")\n",
    "masked_wc.generate(str(negative_list)) \n",
    "plt.figure(figsize=[20,10])\n",
    "plt.imshow(masked_wc, interpolation='bilinear')\n",
    "plt.axis(\"off\")\n",
    "plt.show()"
   ]
  }
 ],
 "metadata": {
  "kernelspec": {
   "display_name": "Python 3",
   "language": "python",
   "name": "python3"
  },
  "language_info": {
   "codemirror_mode": {
    "name": "ipython",
    "version": 3
   },
   "file_extension": ".py",
   "mimetype": "text/x-python",
   "name": "python",
   "nbconvert_exporter": "python",
   "pygments_lexer": "ipython3",
   "version": "3.8.8"
  }
 },
 "nbformat": 4,
 "nbformat_minor": 5
}
