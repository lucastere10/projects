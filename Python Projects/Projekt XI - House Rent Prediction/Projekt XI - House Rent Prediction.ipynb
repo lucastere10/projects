{
 "cells": [
  {
   "cell_type": "markdown",
   "id": "45b74b21",
   "metadata": {},
   "source": [
    "# Projekt XI - House Rent Prediction"
   ]
  },
  {
   "cell_type": "markdown",
   "id": "b4e2d92a",
   "metadata": {},
   "source": [
    "As simple as it gets\n",
    "\n",
    "            key features:\n",
    "\n",
    "#### Objectives:\n",
    "\n",
    "   * \n",
    "   \n",
    "Target Feature: \n",
    "\n",
    "##### Used Algorithims\n",
    "\n",
    "- \n",
    "- \n",
    "\n",
    "#### Phases:\n",
    "   * \n",
    "   * \n",
    "   * "
   ]
  }
 ],
 "metadata": {
  "kernelspec": {
   "display_name": "Python 3.10.5 64-bit",
   "language": "python",
   "name": "python3"
  },
  "language_info": {
   "codemirror_mode": {
    "name": "ipython",
    "version": 3
   },
   "file_extension": ".py",
   "mimetype": "text/x-python",
   "name": "python",
   "nbconvert_exporter": "python",
   "pygments_lexer": "ipython3",
   "version": "3.10.5"
  },
  "vscode": {
   "interpreter": {
    "hash": "37083a178839ddb6837eca99e3841ef7be6dad5dc50c6d19829e2187d61ddd5d"
   }
  }
 },
 "nbformat": 4,
 "nbformat_minor": 5
}
