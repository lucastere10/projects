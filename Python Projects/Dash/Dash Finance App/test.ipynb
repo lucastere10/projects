{
 "cells": [
  {
   "cell_type": "code",
   "execution_count": 1,
   "metadata": {},
   "outputs": [],
   "source": [
    "import pandas as pd\n",
    "import requests\n",
    "import plotly.express as px\n",
    "import plotly.graph_objects as go\n",
    "from datetime import datetime\n",
    "import yfinance as yf"
   ]
  },
  {
   "cell_type": "markdown",
   "metadata": {},
   "source": [
    "#### Symbol Search"
   ]
  },
  {
   "cell_type": "code",
   "execution_count": null,
   "metadata": {},
   "outputs": [],
   "source": [
    "key = '1D0MB8E05Q6QOL2L' #Alpha API Key\n",
    "value = 'Br'\n",
    "url = f'https://www.alphavantage.co/query?function=SYMBOL_SEARCH&keywords={value}&apikey={key}'\n",
    "r = requests.get(url)\n",
    "nasdaq = pd.read_csv('C:\\Portfolio & Projects\\projects\\Python Projects\\Dash\\Dash Finance App\\data\\\\nasdaq.csv')\n",
    "data = r.json()\n"
   ]
  },
  {
   "cell_type": "markdown",
   "metadata": {},
   "source": [
    "#### Overview"
   ]
  },
  {
   "cell_type": "code",
   "execution_count": null,
   "metadata": {},
   "outputs": [],
   "source": [
    "key = '1D0MB8E05Q6QOL2L' #Alpha API Key\n",
    "value = input() #use PBR\n",
    "url = f'https://www.alphavantage.co/query?function=OVERVIEW&symbol={value}&apikey={key}'\n",
    "r = requests.get(url)\n",
    "data = r.json()\n",
    "print(data)"
   ]
  },
  {
   "cell_type": "markdown",
   "metadata": {},
   "source": [
    "#### FEED"
   ]
  },
  {
   "cell_type": "code",
   "execution_count": null,
   "metadata": {},
   "outputs": [],
   "source": [
    "key = '1D0MB8E05Q6QOL2L' #Alpha API Key\n",
    "today = datetime.today().strftime('%Y%m%d0000')\n",
    "print(today)\n",
    "value = 'GGB' #input() #use PBR\n",
    "url = f'https://www.alphavantage.co/query?function=NEWS_SENTIMENT&tickers={value}&limit=2&apikey={key}'\n",
    "r = requests.get(url)\n",
    "data = r.json()\n",
    "print(data)"
   ]
  },
  {
   "cell_type": "markdown",
   "metadata": {},
   "source": [
    "#### Chart"
   ]
  },
  {
   "cell_type": "code",
   "execution_count": null,
   "metadata": {},
   "outputs": [],
   "source": [
    "key = '1D0MB8E05Q6QOL2L' #Alpha API Key\n",
    "value = 'GGB' #input() #use PBR\n",
    "chart_url = f'https://www.alphavantage.co/query?function=TIME_SERIES_INTRADAY&symbol={value}&interval=5min&apikey={key}'\n",
    "c = requests.get(chart_url)\n",
    "chart_data = c.json()\n",
    "chart_data = pd.DataFrame.from_dict(chart_data['Time Series (5min)'], orient='index').reset_index()\n",
    "chart_data['date'] = pd.to_datetime(chart_data['index'])\n",
    "chart_data.drop('index', axis = 1)"
   ]
  },
  {
   "cell_type": "markdown",
   "metadata": {},
   "source": [
    "#### Crypto"
   ]
  },
  {
   "cell_type": "code",
   "execution_count": 50,
   "metadata": {},
   "outputs": [],
   "source": [
    "key = '1D0MB8E05Q6QOL2L' #Alpha API Key\n",
    "value = 'DOGE' #input() #use PBR\n",
    "crypto_url = f'https://www.alphavantage.co/query?function=CRYPTO_INTRADAY&symbol={value}&market=USD&interval=5min&apikey={key}'\n",
    "c = requests.get(crypto_url)\n",
    "chart_data = c.json()\n",
    "chart_data = pd.DataFrame.from_dict(chart_data['Time Series Crypto (5min)'], orient='index').reset_index()\n",
    "chart_data['Datetime'] = pd.to_datetime(chart_data['index'])\n",
    "chart_data['Close'] = pd.to_numeric(chart_data['4. close'])"
   ]
  },
  {
   "cell_type": "code",
   "execution_count": 52,
   "metadata": {},
   "outputs": [
    {
     "data": {
      "text/plain": [
       "numpy.float64"
      ]
     },
     "execution_count": 52,
     "metadata": {},
     "output_type": "execute_result"
    }
   ],
   "source": [
    "type(chart_data['Close'][0])"
   ]
  },
  {
   "cell_type": "code",
   "execution_count": null,
   "metadata": {},
   "outputs": [],
   "source": [
    "crypto['Symbol'].sample().to_string().split()[1]"
   ]
  },
  {
   "cell_type": "code",
   "execution_count": null,
   "metadata": {},
   "outputs": [],
   "source": [
    "newlist = []\n",
    "for n in data['feed'][0]['topics']:\n",
    "    newlist.append(n['topic'])\n",
    "newlist"
   ]
  },
  {
   "cell_type": "code",
   "execution_count": null,
   "metadata": {},
   "outputs": [],
   "source": [
    "type(int(data['items']))"
   ]
  },
  {
   "cell_type": "code",
   "execution_count": null,
   "metadata": {},
   "outputs": [],
   "source": [
    "def get_feed(x):\n",
    "    print(f\"number of n's: {int(x['items'])}\")\n",
    "    for n in range(0,int(x['items']),1):\n",
    "        print(n)"
   ]
  },
  {
   "cell_type": "code",
   "execution_count": null,
   "metadata": {},
   "outputs": [],
   "source": [
    "ticker = yf.Ticker('PBR')\n",
    "info = ticker.info\n",
    "hist = ticker.history('1d','1m')\n",
    "\n"
   ]
  },
  {
   "cell_type": "code",
   "execution_count": null,
   "metadata": {},
   "outputs": [],
   "source": [
    "hist = hist.reset_index()"
   ]
  },
  {
   "cell_type": "code",
   "execution_count": null,
   "metadata": {},
   "outputs": [],
   "source": [
    "hist"
   ]
  },
  {
   "cell_type": "code",
   "execution_count": null,
   "metadata": {},
   "outputs": [],
   "source": [
    "day_start = hist[hist['Datetime'] == hist['Datetime'].min()]['Close'].values[0]\n",
    "day_end = hist[hist['Datetime'] == hist['Datetime'].max()]['Close'].values[0]\n",
    "print(day_start,day_end)\n"
   ]
  },
  {
   "cell_type": "code",
   "execution_count": null,
   "metadata": {},
   "outputs": [],
   "source": [
    "def get_indicator(x):\n",
    "    day_start = x[x['Datetime'] == x['Datetime'].min()]['Close'].values[0]\n",
    "    day_end = x[x['Datetime'] == x['Datetime'].max()]['Close'].values[0]\n",
    "    fig = go.Figure(go.Indicator(\n",
    "        mode=\"number+delta\",\n",
    "        value=day_end,\n",
    "        number = {'prefix': \"$\"},\n",
    "        delta={'reference': day_start, 'relative': True, 'valueformat':'.2%', 'position': \"top\"}))\n",
    "    fig.update_traces(delta_font={'size':13}, number_font={'size':20, 'color':'black'})\n",
    "    fig.update_layout(height=40, width=75)\n",
    "\n",
    "    if day_end >= day_start:\n",
    "        fig.update_traces(delta_increasing_color='green')\n",
    "    elif day_end < day_start:\n",
    "        fig.update_traces(delta_decreasing_color='red')\n",
    "    return fig\n",
    "get_indicator(hist)"
   ]
  },
  {
   "cell_type": "code",
   "execution_count": null,
   "metadata": {},
   "outputs": [],
   "source": [
    "hist.iloc[::-1]"
   ]
  },
  {
   "cell_type": "code",
   "execution_count": null,
   "metadata": {},
   "outputs": [],
   "source": [
    "def update_graph(x):\n",
    "    x_graph = x.iloc[::-1]\n",
    "    fig = px.line(x_graph, x='Datetime', y='Close',\n",
    "                   range_y=[x_graph['Close'].min(), x_graph['Close'].max()],\n",
    "                   height=120).update_layout(margin=dict(t=0, r=0, l=0, b=20),\n",
    "                                             paper_bgcolor='rgba(0,0,0,0)',\n",
    "                                             plot_bgcolor='rgba(0,0,0,0)',\n",
    "                                             yaxis=dict(\n",
    "                                             title=None,\n",
    "                                             showgrid=False,\n",
    "                                             showticklabels=False\n",
    "                                             ),\n",
    "                                             xaxis=dict(\n",
    "                                             title=None,\n",
    "                                             showgrid=False,\n",
    "                                             showticklabels=False\n",
    "                                             ))\n",
    "\n",
    "    day_start = x_graph[x_graph['Datetime'] == x_graph['Datetime'].min()]['Close'].values[0]\n",
    "    day_end = x_graph[x_graph['Datetime'] == x_graph['Datetime'].max()]['Close'].values[0]\n",
    "\n",
    "    if day_end >= day_start:\n",
    "        return fig.update_traces(fill='tozeroy',line={'color':'green'})\n",
    "    elif day_end < day_start:\n",
    "        return fig.update_traces(fill='tozeroy',\n",
    "                             line={'color': 'red'})\n",
    "    return fig\n",
    "update_graph(hist)"
   ]
  },
  {
   "cell_type": "code",
   "execution_count": null,
   "metadata": {},
   "outputs": [],
   "source": [
    "\"${:,.2f}\".format(float(hist['Open'][-1:]))"
   ]
  },
  {
   "cell_type": "code",
   "execution_count": null,
   "metadata": {},
   "outputs": [],
   "source": [
    "nasdaq['Symbol'].sample().to_string().split()[1]"
   ]
  },
  {
   "cell_type": "code",
   "execution_count": null,
   "metadata": {},
   "outputs": [],
   "source": [
    "bool(ticker.info)"
   ]
  },
  {
   "cell_type": "code",
   "execution_count": 29,
   "metadata": {},
   "outputs": [
    {
     "data": {
      "text/html": [
       "<div>\n",
       "<style scoped>\n",
       "    .dataframe tbody tr th:only-of-type {\n",
       "        vertical-align: middle;\n",
       "    }\n",
       "\n",
       "    .dataframe tbody tr th {\n",
       "        vertical-align: top;\n",
       "    }\n",
       "\n",
       "    .dataframe thead th {\n",
       "        text-align: right;\n",
       "    }\n",
       "</style>\n",
       "<table border=\"1\" class=\"dataframe\">\n",
       "  <thead>\n",
       "    <tr style=\"text-align: right;\">\n",
       "      <th></th>\n",
       "      <th>currency code</th>\n",
       "      <th>currency name</th>\n",
       "    </tr>\n",
       "  </thead>\n",
       "  <tbody>\n",
       "    <tr>\n",
       "      <th>0</th>\n",
       "      <td>1ST</td>\n",
       "      <td>FirstBlood</td>\n",
       "    </tr>\n",
       "    <tr>\n",
       "      <th>1</th>\n",
       "      <td>2GIVE</td>\n",
       "      <td>GiveCoin</td>\n",
       "    </tr>\n",
       "    <tr>\n",
       "      <th>2</th>\n",
       "      <td>808</td>\n",
       "      <td>808Coin</td>\n",
       "    </tr>\n",
       "    <tr>\n",
       "      <th>3</th>\n",
       "      <td>AAVE</td>\n",
       "      <td>Aave</td>\n",
       "    </tr>\n",
       "    <tr>\n",
       "      <th>4</th>\n",
       "      <td>ABT</td>\n",
       "      <td>ArcBlock</td>\n",
       "    </tr>\n",
       "    <tr>\n",
       "      <th>...</th>\n",
       "      <td>...</td>\n",
       "      <td>...</td>\n",
       "    </tr>\n",
       "    <tr>\n",
       "      <th>570</th>\n",
       "      <td>ZEN</td>\n",
       "      <td>ZenCash</td>\n",
       "    </tr>\n",
       "    <tr>\n",
       "      <th>571</th>\n",
       "      <td>ZET</td>\n",
       "      <td>Zetacoin</td>\n",
       "    </tr>\n",
       "    <tr>\n",
       "      <th>572</th>\n",
       "      <td>ZIL</td>\n",
       "      <td>Zilliqa</td>\n",
       "    </tr>\n",
       "    <tr>\n",
       "      <th>573</th>\n",
       "      <td>ZLA</td>\n",
       "      <td>Zilla</td>\n",
       "    </tr>\n",
       "    <tr>\n",
       "      <th>574</th>\n",
       "      <td>ZRX</td>\n",
       "      <td>0x</td>\n",
       "    </tr>\n",
       "  </tbody>\n",
       "</table>\n",
       "<p>575 rows × 2 columns</p>\n",
       "</div>"
      ],
      "text/plain": [
       "    currency code currency name\n",
       "0             1ST    FirstBlood\n",
       "1           2GIVE      GiveCoin\n",
       "2             808       808Coin\n",
       "3            AAVE          Aave\n",
       "4             ABT      ArcBlock\n",
       "..            ...           ...\n",
       "570           ZEN       ZenCash\n",
       "571           ZET      Zetacoin\n",
       "572           ZIL       Zilliqa\n",
       "573           ZLA         Zilla\n",
       "574           ZRX            0x\n",
       "\n",
       "[575 rows x 2 columns]"
      ]
     },
     "execution_count": 29,
     "metadata": {},
     "output_type": "execute_result"
    }
   ],
   "source": [
    "crypto = pd.read_csv('C:\\Portfolio & Projects\\projects\\Python Projects\\Dash\\Dash Finance App\\data\\crypto.csv')\n",
    "crypto"
   ]
  },
  {
   "cell_type": "code",
   "execution_count": 31,
   "metadata": {},
   "outputs": [
    {
     "data": {
      "text/plain": [
       "'ETT'"
      ]
     },
     "execution_count": 31,
     "metadata": {},
     "output_type": "execute_result"
    }
   ],
   "source": [
    "crypto['currency code'].sample().to_string().split()[1]"
   ]
  },
  {
   "cell_type": "code",
   "execution_count": null,
   "metadata": {},
   "outputs": [],
   "source": [
    "type(crypto['currency code'][0])"
   ]
  },
  {
   "cell_type": "code",
   "execution_count": null,
   "metadata": {},
   "outputs": [],
   "source": [
    "crypto['currency code'].sample().to_string().split()[1]\n",
    "crypto.sample()"
   ]
  },
  {
   "cell_type": "code",
   "execution_count": null,
   "metadata": {},
   "outputs": [],
   "source": [
    "test = crypto.sample()\n",
    "test['currency code'].to_string().split()[1]"
   ]
  }
 ],
 "metadata": {
  "kernelspec": {
   "display_name": "Python 3.10.5 ('.env': venv)",
   "language": "python",
   "name": "python3"
  },
  "language_info": {
   "codemirror_mode": {
    "name": "ipython",
    "version": 3
   },
   "file_extension": ".py",
   "mimetype": "text/x-python",
   "name": "python",
   "nbconvert_exporter": "python",
   "pygments_lexer": "ipython3",
   "version": "3.10.5"
  },
  "orig_nbformat": 4,
  "vscode": {
   "interpreter": {
    "hash": "09f2ec8cef334c586bdb52994518f11c557bcc09da40af8afbcfdda347db9aaa"
   }
  }
 },
 "nbformat": 4,
 "nbformat_minor": 2
}
