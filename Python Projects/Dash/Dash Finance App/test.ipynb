{
 "cells": [
  {
   "cell_type": "code",
   "execution_count": null,
   "metadata": {},
   "outputs": [],
   "source": [
    "import pandas as pd\n",
    "import requests\n",
    "import plotly.express as px\n",
    "import plotly.graph_objects as go\n",
    "from datetime import datetime\n",
    "import yfinance as yf"
   ]
  },
  {
   "cell_type": "markdown",
   "metadata": {},
   "source": [
    "#### Symbol Search"
   ]
  },
  {
   "cell_type": "code",
   "execution_count": null,
   "metadata": {},
   "outputs": [],
   "source": [
    "key = '1D0MB8E05Q6QOL2L' #Alpha API Key\n",
    "value = 'Br'\n",
    "url = f'https://www.alphavantage.co/query?function=SYMBOL_SEARCH&keywords={value}&apikey={key}'\n",
    "r = requests.get(url)\n",
    "nasdaq = pd.read_csv('C:\\Portfolio & Projects\\projects\\Python Projects\\Dash\\Dash Finance App\\data\\\\nasdaq.csv')\n",
    "data = r.json()\n"
   ]
  },
  {
   "cell_type": "markdown",
   "metadata": {},
   "source": [
    "#### Overview"
   ]
  },
  {
   "cell_type": "code",
   "execution_count": null,
   "metadata": {},
   "outputs": [],
   "source": [
    "key = '1D0MB8E05Q6QOL2L' #Alpha API Key\n",
    "value = input() #use PBR\n",
    "url = f'https://www.alphavantage.co/query?function=OVERVIEW&symbol={value}&apikey={key}'\n",
    "r = requests.get(url)\n",
    "data = r.json()\n",
    "print(data)"
   ]
  },
  {
   "cell_type": "markdown",
   "metadata": {},
   "source": [
    "#### FEED"
   ]
  },
  {
   "cell_type": "code",
   "execution_count": null,
   "metadata": {},
   "outputs": [],
   "source": [
    "key = '1D0MB8E05Q6QOL2L' #Alpha API Key\n",
    "today = datetime.today().strftime('%Y%m%d0000')\n",
    "print(today)\n",
    "value = 'GGB' #input() #use PBR\n",
    "url = f'https://www.alphavantage.co/query?function=NEWS_SENTIMENT&tickers={value}&limit=2&apikey={key}'\n",
    "r = requests.get(url)\n",
    "data = r.json()\n",
    "print(data)"
   ]
  },
  {
   "cell_type": "markdown",
   "metadata": {},
   "source": [
    "#### Chart"
   ]
  },
  {
   "cell_type": "code",
   "execution_count": null,
   "metadata": {},
   "outputs": [],
   "source": [
    "key = '1D0MB8E05Q6QOL2L' #Alpha API Key\n",
    "value = 'GGB' #input() #use PBR\n",
    "chart_url = f'https://www.alphavantage.co/query?function=TIME_SERIES_INTRADAY&symbol={value}&interval=5min&apikey={key}'\n",
    "c = requests.get(chart_url)\n",
    "chart_data = c.json()\n",
    "chart_data = pd.DataFrame.from_dict(chart_data['Time Series (5min)'], orient='index').reset_index()\n",
    "chart_data['date'] = pd.to_datetime(chart_data['index'])\n",
    "chart_data.drop('index', axis = 1)"
   ]
  },
  {
   "cell_type": "code",
   "execution_count": null,
   "metadata": {},
   "outputs": [],
   "source": [
    "chart_data['Time Series (5min)']"
   ]
  },
  {
   "cell_type": "code",
   "execution_count": null,
   "metadata": {},
   "outputs": [],
   "source": [
    "newlist = []\n",
    "for n in data['feed'][0]['topics']:\n",
    "    newlist.append(n['topic'])\n",
    "newlist"
   ]
  },
  {
   "cell_type": "code",
   "execution_count": null,
   "metadata": {},
   "outputs": [],
   "source": [
    "type(int(data['items']))"
   ]
  },
  {
   "cell_type": "code",
   "execution_count": null,
   "metadata": {},
   "outputs": [],
   "source": [
    "def get_feed(x):\n",
    "    print(f\"number of n's: {int(x['items'])}\")\n",
    "    for n in range(0,int(x['items']),1):\n",
    "        print(n)"
   ]
  },
  {
   "cell_type": "code",
   "execution_count": 56,
   "metadata": {},
   "outputs": [],
   "source": [
    "ticker = yf.Ticker('PBR')\n",
    "info = ticker.info\n",
    "hist = ticker.history('1d','1m')\n",
    "\n"
   ]
  },
  {
   "cell_type": "code",
   "execution_count": 61,
   "metadata": {},
   "outputs": [
    {
     "ename": "NameError",
     "evalue": "name 'potato' is not defined",
     "output_type": "error",
     "traceback": [
      "\u001b[1;31m---------------------------------------------------------------------------\u001b[0m",
      "\u001b[1;31mNameError\u001b[0m                                 Traceback (most recent call last)",
      "\u001b[1;32mc:\\Portfolio & Projects\\projects\\Python Projects\\Dash\\Dash Finance App\\test.ipynb Célula: 15\u001b[0m in \u001b[0;36m<cell line: 1>\u001b[1;34m()\u001b[0m\n\u001b[1;32m----> <a href='vscode-notebook-cell:/c%3A/Portfolio%20%26%20Projects/projects/Python%20Projects/Dash/Dash%20Finance%20App/test.ipynb#X25sZmlsZQ%3D%3D?line=0'>1</a>\u001b[0m \u001b[39mbool\u001b[39m(potato)\n",
      "\u001b[1;31mNameError\u001b[0m: name 'potato' is not defined"
     ]
    }
   ],
   "source": []
  },
  {
   "cell_type": "code",
   "execution_count": 48,
   "metadata": {},
   "outputs": [
    {
     "name": "stdout",
     "output_type": "stream",
     "text": [
      "- FEXDU: No data found for this date range, symbol may be delisted\n"
     ]
    },
    {
     "data": {
      "text/plain": [
       "True"
      ]
     },
     "execution_count": 48,
     "metadata": {},
     "output_type": "execute_result"
    }
   ],
   "source": []
  },
  {
   "cell_type": "code",
   "execution_count": null,
   "metadata": {},
   "outputs": [],
   "source": [
    "hist.reset_index()"
   ]
  },
  {
   "cell_type": "code",
   "execution_count": null,
   "metadata": {},
   "outputs": [],
   "source": [
    "\"${:,.2f}\".format(float(hist['Open'][-1:]))"
   ]
  },
  {
   "cell_type": "code",
   "execution_count": null,
   "metadata": {},
   "outputs": [],
   "source": [
    "nasdaq['Symbol'].sample().to_string().split()[1]"
   ]
  },
  {
   "cell_type": "code",
   "execution_count": null,
   "metadata": {},
   "outputs": [],
   "source": [
    "bool(ticker.info)"
   ]
  }
 ],
 "metadata": {
  "kernelspec": {
   "display_name": "Python 3.10.5 ('.env': venv)",
   "language": "python",
   "name": "python3"
  },
  "language_info": {
   "codemirror_mode": {
    "name": "ipython",
    "version": 3
   },
   "file_extension": ".py",
   "mimetype": "text/x-python",
   "name": "python",
   "nbconvert_exporter": "python",
   "pygments_lexer": "ipython3",
   "version": "3.10.5"
  },
  "orig_nbformat": 4,
  "vscode": {
   "interpreter": {
    "hash": "09f2ec8cef334c586bdb52994518f11c557bcc09da40af8afbcfdda347db9aaa"
   }
  }
 },
 "nbformat": 4,
 "nbformat_minor": 2
}
