{
 "cells": [
  {
   "cell_type": "code",
   "execution_count": null,
   "metadata": {},
   "outputs": [],
   "source": [
    "import pandas as pd\n",
    "import requests"
   ]
  },
  {
   "cell_type": "code",
   "execution_count": null,
   "metadata": {},
   "outputs": [],
   "source": [
    "key = '1D0MB8E05Q6QOL2L' #Alpha API Key\n",
    "value = 'Petrobr'\n",
    "url = f'https://www.alphavantage.co/query?function=SYMBOL_SEARCH&keywords={value}&apikey={key}'\n",
    "r = requests.get(url)\n",
    "data = r.json()\n",
    "print(data[\"bestMatches\"][\"1. symbol\"]) "
   ]
  }
 ],
 "metadata": {
  "kernelspec": {
   "display_name": "Python 3.10.5 ('.env': venv)",
   "language": "python",
   "name": "python3"
  },
  "language_info": {
   "name": "python",
   "version": "3.10.5"
  },
  "orig_nbformat": 4,
  "vscode": {
   "interpreter": {
    "hash": "09f2ec8cef334c586bdb52994518f11c557bcc09da40af8afbcfdda347db9aaa"
   }
  }
 },
 "nbformat": 4,
 "nbformat_minor": 2
}
