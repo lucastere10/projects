{
 "cells": [
  {
   "cell_type": "code",
   "execution_count": 2,
   "metadata": {},
   "outputs": [],
   "source": [
    "#import libs\n",
    "\n",
    "import dash\n",
    "import dash_core_components as dcc\n",
    "import dash_html_components as html"
   ]
  },
  {
   "cell_type": "code",
   "execution_count": 6,
   "metadata": {},
   "outputs": [],
   "source": [
    "app = dash.Dash()"
   ]
  },
  {
   "cell_type": "code",
   "execution_count": 7,
   "metadata": {},
   "outputs": [],
   "source": [
    "app.layout = html.Div([\n",
    "    html.H1('Hello Dash'),\n",
    "    html.Div('Dash - A Data product'),\n",
    "\n",
    "    dcc.Graph(\n",
    "        id = 'sample',\n",
    "        \n",
    "        )\n",
    "])\n"
   ]
  },
  {
   "cell_type": "code",
   "execution_count": 8,
   "metadata": {},
   "outputs": [
    {
     "name": "stdout",
     "output_type": "stream",
     "text": [
      "Dash is running on http://127.0.0.1:8050/\n",
      "\n",
      "Dash is running on http://127.0.0.1:8050/\n",
      "\n",
      " * Serving Flask app '__main__'\n",
      " * Debug mode: off\n"
     ]
    },
    {
     "name": "stderr",
     "output_type": "stream",
     "text": [
      "WARNING: This is a development server. Do not use it in a production deployment. Use a production WSGI server instead.\n",
      " * Running on http://127.0.0.1:8050\n",
      "Press CTRL+C to quit\n",
      "127.0.0.1 - - [22/Aug/2022 19:23:13] \"GET / HTTP/1.1\" 200 -\n",
      "127.0.0.1 - - [22/Aug/2022 19:23:14] \"GET /_dash-component-suites/dash/deps/polyfill@7.v2_6_1m1661198909.12.1.min.js HTTP/1.1\" 200 -\n",
      "127.0.0.1 - - [22/Aug/2022 19:23:14] \"GET /_dash-component-suites/dash/deps/react-dom@16.v2_6_1m1661198909.14.0.min.js HTTP/1.1\" 200 -\n",
      "127.0.0.1 - - [22/Aug/2022 19:23:14] \"GET /_dash-component-suites/dash/deps/react@16.v2_6_1m1661198909.14.0.min.js HTTP/1.1\" 200 -\n",
      "127.0.0.1 - - [22/Aug/2022 19:23:14] \"GET /_dash-component-suites/dash/deps/prop-types@15.v2_6_1m1661198909.8.1.min.js HTTP/1.1\" 200 -\n",
      "127.0.0.1 - - [22/Aug/2022 19:23:14] \"GET /_dash-component-suites/dash/dcc/dash_core_components-shared.v2_6_1m1661198908.js HTTP/1.1\" 200 -\n",
      "127.0.0.1 - - [22/Aug/2022 19:23:14] \"GET /_dash-component-suites/dash/dcc/dash_core_components.v2_6_1m1661198908.js HTTP/1.1\" 200 -\n",
      "127.0.0.1 - - [22/Aug/2022 19:23:14] \"GET /_dash-component-suites/dash/dash-renderer/build/dash_renderer.v2_6_1m1661198908.min.js HTTP/1.1\" 200 -\n",
      "127.0.0.1 - - [22/Aug/2022 19:23:14] \"GET /_dash-component-suites/dash/html/dash_html_components.v2_0_5m1661198909.min.js HTTP/1.1\" 200 -\n",
      "127.0.0.1 - - [22/Aug/2022 19:23:14] \"GET /_dash-component-suites/dash/dash_table/bundle.v5_1_5m1661198908.js HTTP/1.1\" 200 -\n",
      "127.0.0.1 - - [22/Aug/2022 19:23:15] \"GET /_dash-layout HTTP/1.1\" 200 -\n",
      "127.0.0.1 - - [22/Aug/2022 19:23:15] \"GET /_dash-dependencies HTTP/1.1\" 200 -\n",
      "127.0.0.1 - - [22/Aug/2022 19:23:16] \"GET /_favicon.ico?v=2.6.1 HTTP/1.1\" 200 -\n"
     ]
    }
   ],
   "source": [
    "if __name__ == '__main__':\n",
    "    app.run_server()"
   ]
  },
  {
   "cell_type": "code",
   "execution_count": null,
   "metadata": {},
   "outputs": [],
   "source": []
  }
 ],
 "metadata": {
  "kernelspec": {
   "display_name": "Python 3.10.5 ('.env': venv)",
   "language": "python",
   "name": "python3"
  },
  "language_info": {
   "codemirror_mode": {
    "name": "ipython",
    "version": 3
   },
   "file_extension": ".py",
   "mimetype": "text/x-python",
   "name": "python",
   "nbconvert_exporter": "python",
   "pygments_lexer": "ipython3",
   "version": "3.10.5"
  },
  "orig_nbformat": 4,
  "vscode": {
   "interpreter": {
    "hash": "09f2ec8cef334c586bdb52994518f11c557bcc09da40af8afbcfdda347db9aaa"
   }
  }
 },
 "nbformat": 4,
 "nbformat_minor": 2
}
